{
  "nbformat": 4,
  "nbformat_minor": 0,
  "metadata": {
    "colab": {
      "name": "tf-celsius_to_fahrenheits.ipynb",
      "provenance": [],
      "private_outputs": true,
      "collapsed_sections": [],
      "authorship_tag": "ABX9TyPAeTLy79VejBQs2fNNT4h5",
      "include_colab_link": true
    },
    "kernelspec": {
      "name": "python3",
      "display_name": "Python 3"
    },
    "accelerator": "GPU"
  },
  "cells": [
    {
      "cell_type": "markdown",
      "metadata": {
        "id": "view-in-github",
        "colab_type": "text"
      },
      "source": [
        "<a href=\"https://colab.research.google.com/github/ekalachev/tensorflow/blob/master/tf_celsius_to_fahrenheits.ipynb\" target=\"_parent\"><img src=\"https://colab.research.google.com/assets/colab-badge.svg\" alt=\"Open In Colab\"/></a>"
      ]
    },
    {
      "cell_type": "code",
      "metadata": {
        "id": "8OT26nsrFaYx",
        "colab_type": "code",
        "colab": {}
      },
      "source": [
        "from __future__ import absolute_import, division, print_function, unicode_literals\n",
        "import tensorflow as tf\n",
        "import numpy as np"
      ],
      "execution_count": null,
      "outputs": []
    },
    {
      "cell_type": "code",
      "metadata": {
        "id": "xtEfRAubFfzt",
        "colab_type": "code",
        "colab": {}
      },
      "source": [
        "# is GPU available on the server?\n",
        "tf.config.list_physical_devices('GPU')"
      ],
      "execution_count": null,
      "outputs": []
    },
    {
      "cell_type": "code",
      "metadata": {
        "id": "nuz0_lLtF5Y_",
        "colab_type": "code",
        "colab": {}
      },
      "source": [
        "# training data\n",
        "\n",
        "celsius_q = np.array([-40, -10, 0, 8, 15, 22, 38])\n",
        "fahrenheit_a = np.array([-40, 14, 32, 46, 59, 72, 100])\n",
        "\n",
        "for i, c in enumerate(celsius_q):\n",
        "    print(\"{} celsius = {} fahrenheits\".format(c, fahrenheit_a[i]))"
      ],
      "execution_count": null,
      "outputs": []
    },
    {
      "cell_type": "code",
      "metadata": {
        "id": "V4mC6CNiG8G_",
        "colab_type": "code",
        "colab": {}
      },
      "source": [
        "# single layer\n",
        "\n",
        "l0 = tf.keras.layers.Dense(units=1, input_shape=[1])"
      ],
      "execution_count": null,
      "outputs": []
    },
    {
      "cell_type": "code",
      "metadata": {
        "id": "m5G6soNoHF17",
        "colab_type": "code",
        "colab": {}
      },
      "source": [
        "# create a model with one layer\n",
        "\n",
        "model = tf.keras.Sequential([l0])"
      ],
      "execution_count": null,
      "outputs": []
    },
    {
      "cell_type": "code",
      "metadata": {
        "id": "-Q7efE7SHIHe",
        "colab_type": "code",
        "colab": {}
      },
      "source": [
        "# compile the model\n",
        "\n",
        "model.compile(loss=\"mean_squared_error\", optimizer=tf.keras.optimizers.Adam(0.1))"
      ],
      "execution_count": null,
      "outputs": []
    },
    {
      "cell_type": "code",
      "metadata": {
        "id": "ylWltqHcHKX9",
        "colab_type": "code",
        "colab": {}
      },
      "source": [
        "# train the model\n",
        "\n",
        "history = model.fit(celsius_q, fahrenheit_a, epochs=1000, verbose=False)\n",
        "print(\"The training has been finished\")"
      ],
      "execution_count": null,
      "outputs": []
    },
    {
      "cell_type": "code",
      "metadata": {
        "id": "xBrhN21sHMME",
        "colab_type": "code",
        "colab": {}
      },
      "source": [
        "# show the show development graph\n",
        "\n",
        "import matplotlib.pyplot as plt\n",
        "plt.xlabel('Epoch')\n",
        "plt.ylabel('loss')\n",
        "plt.plot(history.history['loss'])"
      ],
      "execution_count": null,
      "outputs": []
    },
    {
      "cell_type": "code",
      "metadata": {
        "id": "2AZG61KoHPvZ",
        "colab_type": "code",
        "colab": {}
      },
      "source": [
        "# the first prediction\n",
        "\n",
        "print(model.predict([100.0]))"
      ],
      "execution_count": null,
      "outputs": []
    },
    {
      "cell_type": "code",
      "metadata": {
        "id": "8eRpJ20zHSeN",
        "colab_type": "code",
        "colab": {}
      },
      "source": [
        "# show weights and bias of our single layer\n",
        "\n",
        "print('The layer variable values: {}'.format(l0.get_weights()))"
      ],
      "execution_count": null,
      "outputs": []
    },
    {
      "cell_type": "code",
      "metadata": {
        "id": "kw_SYd8TJDxk",
        "colab_type": "code",
        "colab": {}
      },
      "source": [
        "# create a multi layer model\n",
        "\n",
        "l0 = tf.keras.layers.Dense(units=4, input_shape=[1])\n",
        "l1 = tf.keras.layers.Dense(units=4)\n",
        "l2 = tf.keras.layers.Dense(units=1)\n",
        "\n",
        "model = tf.keras.Sequential([l0, l1, l2])\n",
        "model.compile(loss='mean_squared_error', optimizer=tf.keras.optimizers.Adam(0.1))\n",
        "\n",
        "# train the multi layer model\n",
        "history = model.fit(celsius_q, fahrenheit_a, epochs=100, verbose=False)\n",
        "\n",
        "print('the training has been finished')"
      ],
      "execution_count": null,
      "outputs": []
    },
    {
      "cell_type": "code",
      "metadata": {
        "id": "BCsnOoJDKeKi",
        "colab_type": "code",
        "colab": {}
      },
      "source": [
        "# show the show development graph\n",
        "\n",
        "import matplotlib.pyplot as plt\n",
        "plt.xlabel('Epoch')\n",
        "plt.ylabel('loss')\n",
        "plt.plot(history.history['loss'])"
      ],
      "execution_count": null,
      "outputs": []
    },
    {
      "cell_type": "code",
      "metadata": {
        "id": "r5QefmVALAEz",
        "colab_type": "code",
        "colab": {}
      },
      "source": [
        "# show a new prediction with multi-layer model\n",
        "\n",
        "print(model.predict([100.0]))"
      ],
      "execution_count": null,
      "outputs": []
    },
    {
      "cell_type": "code",
      "metadata": {
        "id": "kJcpEjDmLA_o",
        "colab_type": "code",
        "colab": {}
      },
      "source": [
        "# show weights and bias of our layers\n",
        "\n",
        "print('The layer l0 variable values: {}'.format(l0.get_weights()))\n",
        "print('The layer l1 variable values: {}'.format(l1.get_weights()))\n",
        "print('The layer l2 variable values: {}'.format(l2.get_weights()))"
      ],
      "execution_count": null,
      "outputs": []
    },
    {
      "cell_type": "code",
      "metadata": {
        "id": "ZWcQuiRvL5Zf",
        "colab_type": "code",
        "colab": {}
      },
      "source": [
        ""
      ],
      "execution_count": null,
      "outputs": []
    }
  ]
}