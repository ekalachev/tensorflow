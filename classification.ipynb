{
  "nbformat": 4,
  "nbformat_minor": 0,
  "metadata": {
    "colab": {
      "name": "classification.ipynb",
      "provenance": [],
      "private_outputs": true,
      "collapsed_sections": [],
      "authorship_tag": "ABX9TyPL0QqFqBboc6lMPdKQqnpd",
      "include_colab_link": true
    },
    "kernelspec": {
      "name": "python3",
      "display_name": "Python 3"
    },
    "accelerator": "GPU"
  },
  "cells": [
    {
      "cell_type": "markdown",
      "metadata": {
        "id": "view-in-github",
        "colab_type": "text"
      },
      "source": [
        "<a href=\"https://colab.research.google.com/github/ekalachev/tensorflow/blob/master/classification.ipynb\" target=\"_parent\"><img src=\"https://colab.research.google.com/assets/colab-badge.svg\" alt=\"Open In Colab\"/></a>"
      ]
    },
    {
      "cell_type": "markdown",
      "metadata": {
        "id": "sOUVgNfswjT6",
        "colab_type": "text"
      },
      "source": [
        "# Classification"
      ]
    },
    {
      "cell_type": "markdown",
      "metadata": {
        "id": "VwI28uaAwzng",
        "colab_type": "text"
      },
      "source": [
        "## Download a MNIST dataset"
      ]
    },
    {
      "cell_type": "code",
      "metadata": {
        "id": "8WspRX9rzMpM",
        "colab_type": "code",
        "colab": {}
      },
      "source": [
        "!pip install -U tensorflow_datasets"
      ],
      "execution_count": null,
      "outputs": []
    },
    {
      "cell_type": "markdown",
      "metadata": {
        "id": "fYyUNt7Vw4Nr",
        "colab_type": "text"
      },
      "source": [
        "## import libraries"
      ]
    },
    {
      "cell_type": "code",
      "metadata": {
        "id": "maf7Rutfqssg",
        "colab_type": "code",
        "colab": {}
      },
      "source": [
        "from __future__ import absolute_import, division, print_function, unicode_literals\n",
        "import tensorflow as tf\n",
        "import tensorflow_datasets as tfds\n",
        "\n",
        "import math\n",
        "import numpy as np\n",
        "import matplotlib.pyplot as plt\n",
        "\n",
        "# improve visibility for the progressbar\n",
        "import tqdm\n",
        "import tqdm.auto\n",
        "tqdm.tqdm = tqdm.auto.tqdm\n",
        "\n",
        "print(tf.__version__)"
      ],
      "execution_count": null,
      "outputs": []
    },
    {
      "cell_type": "markdown",
      "metadata": {
        "id": "qspc0Yiiw-gT",
        "colab_type": "text"
      },
      "source": [
        "## Is GPU availble?"
      ]
    },
    {
      "cell_type": "code",
      "metadata": {
        "id": "zTd3X3LitQfM",
        "colab_type": "code",
        "colab": {}
      },
      "source": [
        "tf.config.list_physical_devices('GPU')"
      ],
      "execution_count": null,
      "outputs": []
    },
    {
      "cell_type": "markdown",
      "metadata": {
        "id": "YyWOGSwpxDzK",
        "colab_type": "text"
      },
      "source": [
        "## Load the fashion dataset"
      ]
    },
    {
      "cell_type": "code",
      "metadata": {
        "id": "YWlQsLVDyxeL",
        "colab_type": "code",
        "colab": {}
      },
      "source": [
        "dataset, metadata = tfds.load('fashion_mnist', as_supervised=True, with_info=True)\n",
        "train_dataset, test_dataset = dataset['train'], dataset['test']"
      ],
      "execution_count": null,
      "outputs": []
    },
    {
      "cell_type": "markdown",
      "metadata": {
        "id": "RZksapomxN75",
        "colab_type": "text"
      },
      "source": [
        "## Check loaded dataset"
      ]
    },
    {
      "cell_type": "code",
      "metadata": {
        "id": "nXA5Gy0F29pe",
        "colab_type": "code",
        "colab": {}
      },
      "source": [
        "num_train_examples = metadata.splits['train'].num_examples\n",
        "num_test_examples = metadata.splits['test'].num_examples\n",
        "\n",
        "print('Training examples: {}'.format(num_train_examples))\n",
        "print('Testing examples: {}'.format(num_test_examples))"
      ],
      "execution_count": null,
      "outputs": []
    },
    {
      "cell_type": "markdown",
      "metadata": {
        "id": "jSTdZsEZwSSJ",
        "colab_type": "text"
      },
      "source": [
        "## Normalize method"
      ]
    },
    {
      "cell_type": "code",
      "metadata": {
        "id": "vJuOVEvAwdfc",
        "colab_type": "code",
        "colab": {}
      },
      "source": [
        "def normalize(image, label):\n",
        "  image = tf.cast(image, tf.float32)\n",
        "  image /= 255\n",
        "  return image, label\n",
        "\n",
        "# the 'map' method applies the 'normalize' to each element\n",
        "train_dataset = train_dataset.map(normalize)\n",
        "test_dataset = test_dataset.map(normalize)"
      ],
      "execution_count": null,
      "outputs": []
    },
    {
      "cell_type": "markdown",
      "metadata": {
        "id": "yMwJ7kr5yyyM",
        "colab_type": "text"
      },
      "source": [
        "## Examining the processed data"
      ]
    },
    {
      "cell_type": "code",
      "metadata": {
        "id": "6T9Yrqir1F47",
        "colab_type": "code",
        "colab": {}
      },
      "source": [
        "# custom labels\n",
        "class_names = ['T-shirt', 'Shorts', 'Sweater', 'Dress', 'Cloak', 'Sandals', 'Shirt', 'Sneaker', 'A bag', 'Boot']"
      ],
      "execution_count": null,
      "outputs": []
    },
    {
      "cell_type": "code",
      "metadata": {
        "id": "3Ku9A9eOxk-h",
        "colab_type": "code",
        "colab": {}
      },
      "source": [
        "# take a single image from the dataset and show it in a chart\n",
        "for image, label in test_dataset.take(1):\n",
        "  image = image.numpy().reshape((28, 28))\n",
        "\n",
        "  plt.figure()\n",
        "  plt.imshow(image, cmap=plt.cm.binary)\n",
        "  plt.colorbar()\n",
        "  plt.grid(False)\n",
        "  plt.show()"
      ],
      "execution_count": null,
      "outputs": []
    },
    {
      "cell_type": "code",
      "metadata": {
        "id": "SyV5SIuIz1ye",
        "colab_type": "code",
        "colab": {}
      },
      "source": [
        "plt.figure(figsize=(8, 8))\n",
        "i = 0\n",
        "for image, label in test_dataset.take(25):\n",
        "  image = image.numpy().reshape((28, 28))\n",
        "  plt.subplot(5, 5, i+1)\n",
        "  plt.xticks([])\n",
        "  plt.yticks([])\n",
        "  plt.grid(False)\n",
        "  plt.imshow(image, cmap=plt.cm.binary)\n",
        "  plt.xlabel(class_names[label])\n",
        "  i += 1\n",
        "plt.show()"
      ],
      "execution_count": null,
      "outputs": []
    },
    {
      "cell_type": "markdown",
      "metadata": {
        "id": "12dhkJyr1yXV",
        "colab_type": "text"
      },
      "source": [
        "## Build the model\n",
        "\n",
        "Creating a neural network requires setting up layers"
      ]
    },
    {
      "cell_type": "markdown",
      "metadata": {
        "id": "CUXmf54W2fhb",
        "colab_type": "text"
      },
      "source": [
        "### Setting up layers"
      ]
    },
    {
      "cell_type": "code",
      "metadata": {
        "id": "H2QF3ZJO070k",
        "colab_type": "code",
        "colab": {}
      },
      "source": [
        "model = tf.keras.Sequential([\n",
        "  # this layer 'Flatten' converts two dimensional array to one dimensional\n",
        "  # 28 and 28 means the size of image 28x28 pixels, 1 means that image has only gray shades\n",
        "  # the colored image will have 3 (RGB = red, green, blue)\n",
        "  tf.keras.layers.Flatten(input_shape=(28, 28, 1)),\n",
        "\n",
        "  # this layer has 128 neurons and activation method. Activation methods decide if it should pass the calculated value to the next layer\n",
        "  tf.keras.layers.Dense(128, activation=tf.nn.relu),\n",
        "\n",
        "  # why 10 neurons? Because our dataset has only ten items of clothing. \n",
        "  tf.keras.layers.Dense(10, activation=tf.nn.softmax)\n",
        "])"
      ],
      "execution_count": null,
      "outputs": []
    },
    {
      "cell_type": "markdown",
      "metadata": {
        "id": "B2XBGQiq8i_0",
        "colab_type": "text"
      },
      "source": [
        "### Compile the model"
      ]
    },
    {
      "cell_type": "code",
      "metadata": {
        "id": "kGLwIpY43V-O",
        "colab_type": "code",
        "colab": {}
      },
      "source": [
        "model.compile(optimizer='adam',\n",
        "              loss='sparse_categorical_crossentropy',\n",
        "              metrics=['accuracy'])"
      ],
      "execution_count": null,
      "outputs": []
    },
    {
      "cell_type": "markdown",
      "metadata": {
        "id": "cnjryWLp9V8j",
        "colab_type": "text"
      },
      "source": [
        "### Train the model"
      ]
    },
    {
      "cell_type": "code",
      "metadata": {
        "id": "NGubqdMt83mC",
        "colab_type": "code",
        "colab": {}
      },
      "source": [
        "BATCH_SIZE=32\n",
        "train_dataset = train_dataset.repeat().shuffle(num_train_examples).batch(BATCH_SIZE)\n",
        "test_dataset = test_dataset.batch(BATCH_SIZE)"
      ],
      "execution_count": null,
      "outputs": []
    },
    {
      "cell_type": "code",
      "metadata": {
        "id": "DIWd6kwp_B0W",
        "colab_type": "code",
        "colab": {}
      },
      "source": [
        "model.fit(train_dataset, epochs=5, steps_per_epoch=math.ceil(num_train_examples/BATCH_SIZE))"
      ],
      "execution_count": null,
      "outputs": []
    },
    {
      "cell_type": "markdown",
      "metadata": {
        "id": "JztrV_QFMvDX",
        "colab_type": "text"
      },
      "source": [
        "### Check accuracy"
      ]
    },
    {
      "cell_type": "code",
      "metadata": {
        "id": "eSClUfC1_VYo",
        "colab_type": "code",
        "colab": {}
      },
      "source": [
        "test_loss, test_accuracy = model.evaluate(test_dataset,steps=math.ceil(num_test_examples/BATCH_SIZE))\n",
        "print('The accuracy: ', test_accuracy)"
      ],
      "execution_count": null,
      "outputs": []
    },
    {
      "cell_type": "markdown",
      "metadata": {
        "id": "voRqnX5ZORMv",
        "colab_type": "text"
      },
      "source": [
        "### Prediction"
      ]
    },
    {
      "cell_type": "code",
      "metadata": {
        "id": "XNqQ2UaxNYa4",
        "colab_type": "code",
        "colab": {}
      },
      "source": [
        "for test_images, test_labels in test_dataset.take(5):\n",
        "  test_images = test_images.numpy()\n",
        "  test_labels = test_labels.numpy()\n",
        "  predictions = model.predict(test_images)\n",
        "\n",
        "  print(predictions.shape)\n",
        "  print('Prediction for every category: ', predictions[0])\n",
        "  print('Predicted category: {}, real category: {}'.format(class_names[np.argmax(predictions[0])], class_names[test_labels[0]]))"
      ],
      "execution_count": null,
      "outputs": []
    },
    {
      "cell_type": "code",
      "metadata": {
        "id": "Jp7GqiQWOsIv",
        "colab_type": "code",
        "colab": {}
      },
      "source": [
        ""
      ],
      "execution_count": null,
      "outputs": []
    }
  ]
}